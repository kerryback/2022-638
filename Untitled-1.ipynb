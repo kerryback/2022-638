{
 "cells": [
  {
   "cell_type": "code",
   "execution_count": 10,
   "metadata": {},
   "outputs": [
    {
     "data": {
      "text/plain": [
       "-0.01663625847228345"
      ]
     },
     "execution_count": 10,
     "metadata": {},
     "output_type": "execute_result"
    }
   ],
   "source": [
    "(1-0.001)*(1+0.007)*(1-0.0167)*(1-0.0017)*(1-0.0042)-1"
   ]
  },
  {
   "cell_type": "code",
   "execution_count": 9,
   "metadata": {},
   "outputs": [
    {
     "name": "stdout",
     "output_type": "stream",
     "text": [
      "mean following down is nan%\n",
      "mean following up is 0.82%\n",
      "other mean is 1.18%\n"
     ]
    }
   ],
   "source": [
    "from pandas_datareader import DataReader as pdr\n",
    "aapl = pdr('aapl', 'yahoo', start=\"2022-01-01\", end=\"2022-03-31\")\n",
    "aapl = aapl['Adj Close']\n",
    "\n",
    "ma = aapl.rolling(50).mean()\n",
    "aapl = aapl.reset_index()\n",
    "aapl.columns = ['date', 'price']\n",
    "\n",
    "ma = ma.reset_index()\n",
    "ma.columns = ['date', 'ma']\n",
    "\n",
    "df = aapl.merge(ma, left_on=\"date\", right_on=\"date\", how=\"inner\")\n",
    "df['ret'] = df.price.pct_change()\n",
    "df['down'] = (df.price.shift()>df.ma.shift()) & (df.price<df.ma)\n",
    "df['up'] = (df.price.shift()<df.ma.shift()) & (df.price>df.ma)\n",
    "df['other'] = (~df.down) & (~df.up)\n",
    "df['down'] = df.down.shift()\n",
    "df['up'] = df.up.shift()\n",
    "df['other'] = df.other.shift()\n",
    "df = df.dropna()\n",
    "meanDown = df[df.down].ret.mean()\n",
    "meanUp = df[df.up].ret.mean()\n",
    "meanOther = df[df.other].ret.mean()\n",
    "print(f\"mean following down is {meanDown:.2%}\")\n",
    "print(f\"mean following up is {meanUp:.2%}\")\n",
    "print(f\"other mean is {meanOther:.2%}\")"
   ]
  },
  {
   "cell_type": "code",
   "execution_count": 4,
   "metadata": {},
   "outputs": [
    {
     "data": {
      "text/html": [
       "<div>\n",
       "<style scoped>\n",
       "    .dataframe tbody tr th:only-of-type {\n",
       "        vertical-align: middle;\n",
       "    }\n",
       "\n",
       "    .dataframe tbody tr th {\n",
       "        vertical-align: top;\n",
       "    }\n",
       "\n",
       "    .dataframe thead th {\n",
       "        text-align: right;\n",
       "    }\n",
       "</style>\n",
       "<table border=\"1\" class=\"dataframe\">\n",
       "  <thead>\n",
       "    <tr style=\"text-align: right;\">\n",
       "      <th></th>\n",
       "      <th>date</th>\n",
       "      <th>price</th>\n",
       "      <th>ma</th>\n",
       "      <th>ret</th>\n",
       "      <th>down</th>\n",
       "      <th>up</th>\n",
       "      <th>other</th>\n",
       "    </tr>\n",
       "  </thead>\n",
       "  <tbody>\n",
       "    <tr>\n",
       "      <th>75</th>\n",
       "      <td>2020-04-21</td>\n",
       "      <td>65.994301</td>\n",
       "      <td>68.049798</td>\n",
       "      <td>-0.030910</td>\n",
       "      <td>True</td>\n",
       "      <td>False</td>\n",
       "      <td>False</td>\n",
       "    </tr>\n",
       "    <tr>\n",
       "      <th>181</th>\n",
       "      <td>2020-09-21</td>\n",
       "      <td>108.767021</td>\n",
       "      <td>109.478186</td>\n",
       "      <td>0.030326</td>\n",
       "      <td>True</td>\n",
       "      <td>False</td>\n",
       "      <td>False</td>\n",
       "    </tr>\n",
       "    <tr>\n",
       "      <th>184</th>\n",
       "      <td>2020-09-24</td>\n",
       "      <td>106.929199</td>\n",
       "      <td>110.217510</td>\n",
       "      <td>0.010269</td>\n",
       "      <td>True</td>\n",
       "      <td>False</td>\n",
       "      <td>False</td>\n",
       "    </tr>\n",
       "    <tr>\n",
       "      <th>191</th>\n",
       "      <td>2020-10-05</td>\n",
       "      <td>115.110451</td>\n",
       "      <td>112.859962</td>\n",
       "      <td>0.030791</td>\n",
       "      <td>True</td>\n",
       "      <td>False</td>\n",
       "      <td>False</td>\n",
       "    </tr>\n",
       "    <tr>\n",
       "      <th>193</th>\n",
       "      <td>2020-10-07</td>\n",
       "      <td>113.707405</td>\n",
       "      <td>113.660616</td>\n",
       "      <td>0.016967</td>\n",
       "      <td>True</td>\n",
       "      <td>False</td>\n",
       "      <td>False</td>\n",
       "    </tr>\n",
       "  </tbody>\n",
       "</table>\n",
       "</div>"
      ],
      "text/plain": [
       "          date       price          ma       ret  down     up  other\n",
       "75  2020-04-21   65.994301   68.049798 -0.030910  True  False  False\n",
       "181 2020-09-21  108.767021  109.478186  0.030326  True  False  False\n",
       "184 2020-09-24  106.929199  110.217510  0.010269  True  False  False\n",
       "191 2020-10-05  115.110451  112.859962  0.030791  True  False  False\n",
       "193 2020-10-07  113.707405  113.660616  0.016967  True  False  False"
      ]
     },
     "execution_count": 4,
     "metadata": {},
     "output_type": "execute_result"
    }
   ],
   "source": [
    "df[df.down].head()"
   ]
  },
  {
   "cell_type": "code",
   "execution_count": 8,
   "metadata": {},
   "outputs": [
    {
     "name": "stdout",
     "output_type": "stream",
     "text": [
      "mean following down is 0.10%\n",
      "mean following up is 0.25%\n",
      "other mean is 0.74%\n"
     ]
    }
   ],
   "source": [
    "df['accum'] = (1+df.ret).cumprod()\n",
    "df['ret5'] = df.accum.shift(-4)/df.accum.shift() - 1\n",
    "dmeanDown = df[df.down].ret5.mean()\n",
    "meanUp = df[df.up].ret5.mean()\n",
    "meanOther = df[df.other].ret5.mean()\n",
    "print(f\"mean following down is {meanDown:.2%}\")\n",
    "print(f\"mean following up is {meanUp:.2%}\")\n",
    "print(f\"other mean is {meanOther:.2%}\")"
   ]
  },
  {
   "cell_type": "code",
   "execution_count": null,
   "metadata": {},
   "outputs": [],
   "source": []
  }
 ],
 "metadata": {
  "kernelspec": {
   "display_name": "Python 3.10.8 64-bit",
   "language": "python",
   "name": "python3"
  },
  "language_info": {
   "codemirror_mode": {
    "name": "ipython",
    "version": 3
   },
   "file_extension": ".py",
   "mimetype": "text/x-python",
   "name": "python",
   "nbconvert_exporter": "python",
   "pygments_lexer": "ipython3",
   "version": "3.10.8"
  },
  "orig_nbformat": 4,
  "vscode": {
   "interpreter": {
    "hash": "a98f34b6005ae2330f135078450db511ef8910ecc790235ef0560aa88aa6ce12"
   }
  }
 },
 "nbformat": 4,
 "nbformat_minor": 2
}
