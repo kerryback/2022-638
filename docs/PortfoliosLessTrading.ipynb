{
 "cells": [
  {
   "cell_type": "code",
   "execution_count": 1,
   "id": "beb0341e",
   "metadata": {},
   "outputs": [],
   "source": [
    "import pandas as pd\n",
    "import numpy as np\n",
    "from pandas_datareader import DataReader as pdr\n",
    "import statsmodels.api as sm\n",
    "import matplotlib.pyplot as plt\n",
    "import seaborn as sns\n",
    "sns.set_style('whitegrid')\n",
    "import matplotlib as mpl\n",
    "mpl.rcParams['font.size'] = 12\n",
    "mpl.rcParams['axes.titlesize'] = 16\n",
    "mpl.rcParams['axes.labelsize'] = 14\n",
    "mpl.rcParams['xtick.labelsize'] = 12\n",
    "mpl.rcParams['ytick.labelsize'] = 12\n",
    "mpl.rcParams['legend.fontsize'] = 12\n",
    "mpl.rcParams['legend.title_fontsize'] = 0\n",
    "import warnings\n",
    "warnings.simplefilter(action='ignore', category=FutureWarning)\n",
    "\n",
    "def Portfolio(df,char,numStocks,threshold,cost=0,kind='long') :\n",
    "    target_pct = 1/numStocks\n",
    "    rebal_pct = 4*target_pct\n",
    "    rebalto_pct = 2*target_pct\n",
    "    d = df[['date','ticker','ret']].copy()\n",
    "    if kind=='long' :\n",
    "        d['rnk'] = df.groupby('date')[char].rank(ascending=False).values\n",
    "    else :\n",
    "        d['rnk'] = df.groupby('date')[char].rank().values\n",
    "    filtr1 = d.rnk<=numStocks\n",
    "    filtr2 = d.rnk<=threshold\n",
    "    dates = np.sort(d.date.unique())\n",
    "    start = dates[0]\n",
    "    accum = pd.Series(dtype=float,index=dates)\n",
    "    accum.name = 'accum'\n",
    "    accum.index.name = 'date'\n",
    "    accum[start] = 1\n",
    "    ticksOld = d[filtr1 & (d.date==start)].ticker.to_list()\n",
    "    old = pd.DataFrame(ticksOld,columns=['ticker'])\n",
    "    old['date'] = start\n",
    "    old['before'] = 0\n",
    "    old['after'] = target_pct\n",
    "    old = old.set_index('ticker')\n",
    "    old['withret'] = old.after * (1+d.set_index(['date','ticker']).loc[start].ret)\n",
    "    old['rnk'] = d.set_index(['date','ticker']).loc[start].rnk\n",
    "    out = old.copy().reset_index()\n",
    "    for yesterday, today in zip(dates[:-1],dates[1:]) :\n",
    "        new = pd.DataFrame(ticksOld,columns=['ticker'])\n",
    "        new = new.set_index('ticker')\n",
    "        new['before'] = old.withret\n",
    "        accum[today] = new.before.sum()\n",
    "        target = accum[today]*target_pct\n",
    "        rebal = accum[today]*rebal_pct\n",
    "        rebalto = accum[today]*rebalto_pct\n",
    "        ticks2 = d[filtr2 & (d.date==today)].ticker.to_list()\n",
    "        ticksKeep = [t for t in ticksOld if t in ticks2]\n",
    "        ticksDrop = [t for t in ticksOld if t not in ticks2] \n",
    "        cash = np.sum( np.where(new.loc[ticksKeep,'before']>rebal,\\\n",
    "                               new.loc[ticksKeep,'before']-rebalto,0) ) \n",
    "        cash += new.loc[ticksDrop,'before'].sum()\n",
    "        cash *= (1-cost)\n",
    "        new['after'] = 0\n",
    "        new.loc[ticksKeep,'after'] = np.where((new.loc[ticksKeep,'before']>rebal),rebalto,\\\n",
    "                                               new.loc[ticksKeep,'before'])\n",
    "        ticksSorted = d[d.date==today].sort_values(by='rnk').ticker.to_list()\n",
    "        ticksOld = ticksKeep.copy()\n",
    "        while cash > 0 :\n",
    "            t = ticksSorted.pop(0)\n",
    "            if t in ticksKeep :\n",
    "                before = new.loc[t,'after']\n",
    "            else :\n",
    "                before = 0\n",
    "                ticksOld.append(t)\n",
    "            new.loc[t,'after'] = max(before, min(before+cash,target))\n",
    "            cash -= ( new.loc[t,'after'] - before )\n",
    "        new['before'] = new.before.fillna(0)\n",
    "        new['withret'] = new.after * (1+d.set_index(['date','ticker']).loc[today].ret)\n",
    "        new['rnk'] = d.set_index(['date','ticker']).loc[today].rnk\n",
    "        new['date'] = today\n",
    "        out = pd.concat((out,new.reset_index()))\n",
    "        old = new.loc[ticksOld]\n",
    "    out = out.merge(accum,on='date',how='left')\n",
    "    out['trade$'] = out.after-out.before\n",
    "    out['trade%'] = out['trade$'] / out.accum\n",
    "    out['weight'] = out.after / out.accum\n",
    "    return out, accum.pct_change().shift(-1)\n",
    "\n",
    "def plotMV(sds,mns) :\n",
    "    plt.scatter(sds,mns,color='blue',s=50)\n",
    "    for name in mns.index :\n",
    "        sd = sds[name]\n",
    "        mn = mns[name]\n",
    "        plt.annotate(text=name,xy=(sd,mn),textcoords=\"offset points\",xytext=(0,-16),ha='center')     \n",
    "    plt.xlabel('Standard Deviation (%)')\n",
    "    plt.ylabel('Mean Excess Return (%)')\n",
    "       \n",
    "def tangency(rprem,cov) :\n",
    "    w = np.linalg.solve(cov,rprem)\n",
    "    return pd.Series(w/np.sum(w), index=rprem.index)\n",
    "\n",
    "def minvar(rprem,cov) :\n",
    "    w = np.linalg.solve(cov,np.ones(len(rprem)))\n",
    "    return pd.Series(w/np.sum(w), index=rprem.index)\n",
    "\n",
    "def plot_bullet(mns,cov) :\n",
    "    sds = pd.Series(np.sqrt(np.diag(cov)),index=cov.index)\n",
    "    plotMV(sds,mns)\n",
    "    tang = tangency(mns,cov)\n",
    "    gmv = minvar(mns,cov)\n",
    "    \n",
    "    # decide how far to the right to draw the bullet\n",
    "    A = mns @ np.linalg.solve(cov,mns)\n",
    "    w = np.linalg.solve(cov,np.ones(len(mns)))\n",
    "    B = mns @ w\n",
    "    C = np.sum(w)\n",
    "    maxvar = (sds.max())**2\n",
    "    k = A - maxvar*(A*C-B**2)\n",
    "    mu = (B+np.sqrt(B**2-C*k)) / C\n",
    "    x = mns@tang\n",
    "    y = mns@gmv\n",
    "    if np.abs(x-y) < 1.0e-8 :\n",
    "        return None\n",
    "    else :\n",
    "        b = (mu - mns@gmv) / (x-y)\n",
    "        # calculate and plot bullet\n",
    "        ports = [a*tang + (1-a)*gmv for a in np.linspace(-b,b,100)]\n",
    "        rprem = pd.Series([w@mns for w in ports])\n",
    "        stdevs = pd.Series([np.sqrt(w@cov@w) for w in ports])\n",
    "        plt.plot(stdevs,rprem,color='green',label='Markowitz Bullet')\n",
    "            \n",
    "def plot_frontier(mns,cov) :\n",
    "    sds = pd.Series(np.sqrt(np.diag(cov)),index=cov.index)\n",
    "    plotMV(sds,mns)\n",
    "    tang = tangency(mns,cov)\n",
    "    mn = tang @ mns\n",
    "    sd = np.sqrt(tang @ cov @ tang)\n",
    "    plt.scatter(sd,mn,s=300,label='Tangency',marker='*',color='black')\n",
    "    plt.annotate(text='Tang',xy=(sd,mn),textcoords=\"offset points\",xytext=(-20,8),ha='center')   \n",
    "    grid = np.linspace(0,np.max(sds),100)\n",
    "    plt.plot(grid,(mn/sd)*grid,color='red',label='Frontier')"
   ]
  },
  {
   "cell_type": "markdown",
   "id": "f98ff245-2b1d-42e1-89fb-f7fb4156e2ae",
   "metadata": {},
   "source": [
    "## Overview\n",
    "\n",
    "In portfolios.ipynb, we set numStocks, and then each month we dropped all stocks that had moved out of the desired (best or worst) group of size numStocks.  We replaced the dropped stocks with the new stocks that entered the desired group.  We also rebalanced all positions back to size 1/numStocks.  That was a lot of trading.\n",
    "\n",
    "In this notebook, we set numStocks and also a threshold.  We only drop stocks when they move beyond the threshold.  For example, we might set numStocks = 40 and threshold = 300.  Then, when we have a position in a stock, we maintain a position in it until it moves beyond 500 in our rankings.  So, we will always have stocks in the top 300 but not necessarily the top 40.  Also, instead of rebalancing to 1/numStocks = 2.5%, we allow positions to grow to 4/numStocks = 10% before we rebalance.  When we do rebalance, we prune the position down to 2/numStocks = 5%.  \n",
    "\n",
    "When we drop stocks or prune positions, we generate cash.  We assume a transaction cost in buying and selling, so the new shares we buy can only total (1-cost) x cash.  For example, cost = 0.005 for a 1/2% round-trip cost (bid-ask spread).  We allocate the cash based on our current ranking: starting with the most desired stock, we add it to the portfolio at weight 1/numStocks if it was not in the portfolio, or we buy new shares to bring the weight up to 1/numStocks if the weight was less than that, or we leave the position alone if it is above 1/numStocks but below the threshold 4/numStocks.  We then move on to the next stock in the rankings and continue until we run out of cash.  \n",
    "\n",
    "As a result of this protocol, the number of stocks in the portfolio will fluctuate some over time, being around but not necessarily equal to numStocks (except at the very beginning).\n",
    "\n",
    "Portfolio columns are as follows:\n",
    "\n",
    "* before = \\$ investment at beginning of month before trading\n",
    "* after = \\$ investment at beginning of month after trading\n",
    "* accum = portfolio value at beginning of month\n",
    "* trade\\\\$ = trade in \\$\n",
    "* trade% = trade as percent of portfolio value\n",
    "* weight = investment at beginnig of month after trading as % of portfolio value\n",
    "* withret = \\$ value at end of month (including monthly return) -> 'before' for next month\n",
    "* rnk = rank based on characteristic or prediction, 1 = best for high portfolio, 1 = worst for low portfolio (so we always want rnk=1,2,... in portfolio)"
   ]
  },
  {
   "cell_type": "markdown",
   "id": "19b338b5-9dcf-4660-8659-4a5465238ef9",
   "metadata": {},
   "source": [
    "## Read data"
   ]
  },
  {
   "cell_type": "code",
   "execution_count": 2,
   "id": "6a911820-7c27-49be-8b1d-f9462b347a95",
   "metadata": {},
   "outputs": [],
   "source": [
    "df = pd.read_csv('predictionsRuss2000.csv')\n",
    "df['date'] = pd.to_datetime(df.date).dt.to_period('M')\n",
    "df = df.dropna(subset=['predict'])"
   ]
  },
  {
   "cell_type": "markdown",
   "id": "1880c4ad-5a7e-4c75-a000-99882f4da5a3",
   "metadata": {},
   "source": [
    "## Get SPY for comparison"
   ]
  },
  {
   "cell_type": "code",
   "execution_count": 3,
   "id": "033c9e2b-25f7-42ab-94cc-44756c8c13f3",
   "metadata": {},
   "outputs": [],
   "source": [
    "rets = pdr(['SPY','IWM','IEF'],'yahoo',start='2002-12-01')\n",
    "rets = rets['Adj Close'].resample('M').last().pct_change().dropna()\n",
    "rets.index = rets.index.to_period('M')\n",
    "rets.columns = [x.lower() for x in rets.columns]\n",
    "rets.index.name = 'date'"
   ]
  },
  {
   "cell_type": "code",
   "execution_count": 4,
   "id": "7d7bed90-85e9-4fa1-b03a-67b927e8ba8b",
   "metadata": {},
   "outputs": [],
   "source": [
    "spy = pdr('SPY','yahoo',start='2002-12-01')\n",
    "spyRets = spy['Adj Close'].resample('M').last().pct_change().dropna()\n",
    "spyRets.index = spyRets.index.to_period('M')\n",
    "spyRets.index.name = 'date'\n",
    "\n",
    "iwm = pdr('IWM','yahoo',start='2002-12-01')\n",
    "iwmRets = iwm['Adj Close'].resample('M').last().pct_change().dropna()\n",
    "iwmRets.index = iwmRets.index.to_period('M')\n",
    "iwmRets.index.name = 'date'"
   ]
  },
  {
   "cell_type": "markdown",
   "id": "d2aa1084-d616-4cfd-ae79-c599221e6b05",
   "metadata": {},
   "source": [
    "## Form portfolios from predictions"
   ]
  },
  {
   "cell_type": "code",
   "execution_count": 5,
   "id": "c78b691a-dd0b-4d38-920a-d81166a95ddc",
   "metadata": {},
   "outputs": [],
   "source": [
    "lowPort, lowRets = Portfolio(df,'predict', numStocks=40, threshold=300, cost=0.005,  kind='short')\n",
    "highPort, highRets = Portfolio(df,'predict', numStocks=40, threshold=300, cost=0.005,kind='long')\n",
    "\n",
    "rets['low'] = lowRets\n",
    "rets['high'] = highRets\n",
    "rets = rets.dropna()\n",
    "rets *= 100"
   ]
  },
  {
   "cell_type": "code",
   "execution_count": 6,
   "id": "3e172b72-159e-4417-9f01-129aaffc777a",
   "metadata": {},
   "outputs": [
    {
     "data": {
      "text/plain": [
       "spy     11.2\n",
       "iwm     10.5\n",
       "ief      4.2\n",
       "low    -26.7\n",
       "high    11.3\n",
       "dtype: float64"
      ]
     },
     "execution_count": 6,
     "metadata": {},
     "output_type": "execute_result"
    }
   ],
   "source": [
    "(12*rets.mean()).round(1)"
   ]
  },
  {
   "cell_type": "code",
   "execution_count": 7,
   "id": "cbf81129-3c1d-4c9f-b59c-e34dae4a61e1",
   "metadata": {},
   "outputs": [
    {
     "name": "stdout",
     "output_type": "stream",
     "text": [
      "\n",
      "Combo portfolio is\n",
      "\n",
      "spy     0.45\n",
      "iwm     0.60\n",
      "ief     0.63\n",
      "low    -0.94\n",
      "high    0.14\n",
      "dtype: float64 \n",
      "\n",
      "Mean is 40.8 % and std dev is 15.7 %\n",
      "\n",
      "Correlation matrix of returns:\n",
      "\n"
     ]
    },
    {
     "data": {
      "text/html": [
       "<div>\n",
       "<style scoped>\n",
       "    .dataframe tbody tr th:only-of-type {\n",
       "        vertical-align: middle;\n",
       "    }\n",
       "\n",
       "    .dataframe tbody tr th {\n",
       "        vertical-align: top;\n",
       "    }\n",
       "\n",
       "    .dataframe thead th {\n",
       "        text-align: right;\n",
       "    }\n",
       "</style>\n",
       "<table border=\"1\" class=\"dataframe\">\n",
       "  <thead>\n",
       "    <tr style=\"text-align: right;\">\n",
       "      <th></th>\n",
       "      <th>spy</th>\n",
       "      <th>iwm</th>\n",
       "      <th>ief</th>\n",
       "      <th>low</th>\n",
       "      <th>high</th>\n",
       "    </tr>\n",
       "  </thead>\n",
       "  <tbody>\n",
       "    <tr>\n",
       "      <th>spy</th>\n",
       "      <td>1.00</td>\n",
       "      <td>0.90</td>\n",
       "      <td>-0.29</td>\n",
       "      <td>0.70</td>\n",
       "      <td>0.86</td>\n",
       "    </tr>\n",
       "    <tr>\n",
       "      <th>iwm</th>\n",
       "      <td>0.90</td>\n",
       "      <td>1.00</td>\n",
       "      <td>-0.37</td>\n",
       "      <td>0.77</td>\n",
       "      <td>0.93</td>\n",
       "    </tr>\n",
       "    <tr>\n",
       "      <th>ief</th>\n",
       "      <td>-0.29</td>\n",
       "      <td>-0.37</td>\n",
       "      <td>1.00</td>\n",
       "      <td>-0.31</td>\n",
       "      <td>-0.40</td>\n",
       "    </tr>\n",
       "    <tr>\n",
       "      <th>low</th>\n",
       "      <td>0.70</td>\n",
       "      <td>0.77</td>\n",
       "      <td>-0.31</td>\n",
       "      <td>1.00</td>\n",
       "      <td>0.73</td>\n",
       "    </tr>\n",
       "    <tr>\n",
       "      <th>high</th>\n",
       "      <td>0.86</td>\n",
       "      <td>0.93</td>\n",
       "      <td>-0.40</td>\n",
       "      <td>0.73</td>\n",
       "      <td>1.00</td>\n",
       "    </tr>\n",
       "  </tbody>\n",
       "</table>\n",
       "</div>"
      ],
      "text/plain": [
       "       spy   iwm   ief   low  high\n",
       "spy   1.00  0.90 -0.29  0.70  0.86\n",
       "iwm   0.90  1.00 -0.37  0.77  0.93\n",
       "ief  -0.29 -0.37  1.00 -0.31 -0.40\n",
       "low   0.70  0.77 -0.31  1.00  0.73\n",
       "high  0.86  0.93 -0.40  0.73  1.00"
      ]
     },
     "execution_count": 7,
     "metadata": {},
     "output_type": "execute_result"
    },
    {
     "data": {
      "image/png": "[encoded data removed]",
      "text/plain": [
       "<Figure size 432x288 with 1 Axes>"
      ]
     },
     "metadata": {},
     "output_type": "display_data"
    }
   ],
   "source": [
    "rf = 1 # %\n",
    "cov = 12*rets.cov()\n",
    "mns = 12*rets.mean()\n",
    "sds = np.sqrt(12)*rets.std()\n",
    "plotMV(sds,mns-rf)\n",
    "\n",
    "# tangency portfolio\n",
    "tang = tangency(mns-rf,cov)\n",
    "mn = tang @ mns\n",
    "sd = np.sqrt(tang@cov@tang)\n",
    "\n",
    "# find multiple/fraction of tangency portfolio with same risk as SPY\n",
    "scale = sds['spy'] / sd\n",
    "p = scale*tang\n",
    "mnp = p @ mns\n",
    "sdp = np.sqrt(p@cov@p)\n",
    "plt.scatter(sdp,mnp,color='blue',s=50)\n",
    "plt.annotate(text='combo',xy=(sdp,mnp),textcoords=\"offset points\",xytext=(0,-16),ha='center')     \n",
    "plt.savefig('low_high_mv.pdf')\n",
    "print('\\nCombo portfolio is\\n')\n",
    "print(p.round(2),'\\n')\n",
    "print('Mean is',round(mnp,1),'% and std dev is',round(sdp,1),'%\\n')\n",
    "print('Correlation matrix of returns:\\n')\n",
    "rets.corr().round(2)"
   ]
  },
  {
   "cell_type": "markdown",
   "id": "295a2ede-da07-458a-ad1b-c5ef1bfb55ef",
   "metadata": {},
   "source": [
    "## Turnover"
   ]
  },
  {
   "cell_type": "code",
   "execution_count": 8,
   "id": "87ff5ded-8dc2-4cf1-a424-ae93775afcc2",
   "metadata": {},
   "outputs": [
    {
     "name": "stdout",
     "output_type": "stream",
     "text": [
      "\n",
      "Monthly Portfolio Turnover (%)\n",
      "\n"
     ]
    },
    {
     "data": {
      "text/html": [
       "<div>\n",
       "<style scoped>\n",
       "    .dataframe tbody tr th:only-of-type {\n",
       "        vertical-align: middle;\n",
       "    }\n",
       "\n",
       "    .dataframe tbody tr th {\n",
       "        vertical-align: top;\n",
       "    }\n",
       "\n",
       "    .dataframe thead th {\n",
       "        text-align: right;\n",
       "    }\n",
       "</style>\n",
       "<table border=\"1\" class=\"dataframe\">\n",
       "  <thead>\n",
       "    <tr style=\"text-align: right;\">\n",
       "      <th></th>\n",
       "      <th>high</th>\n",
       "      <th>low</th>\n",
       "    </tr>\n",
       "  </thead>\n",
       "  <tbody>\n",
       "    <tr>\n",
       "      <th>2008-01</th>\n",
       "      <td>NaN</td>\n",
       "      <td>NaN</td>\n",
       "    </tr>\n",
       "    <tr>\n",
       "      <th>2008-02</th>\n",
       "      <td>24.3</td>\n",
       "      <td>12.8</td>\n",
       "    </tr>\n",
       "    <tr>\n",
       "      <th>2008-03</th>\n",
       "      <td>36.5</td>\n",
       "      <td>5.9</td>\n",
       "    </tr>\n",
       "    <tr>\n",
       "      <th>2008-04</th>\n",
       "      <td>28.9</td>\n",
       "      <td>23.2</td>\n",
       "    </tr>\n",
       "    <tr>\n",
       "      <th>2008-05</th>\n",
       "      <td>54.0</td>\n",
       "      <td>8.4</td>\n",
       "    </tr>\n",
       "    <tr>\n",
       "      <th>...</th>\n",
       "      <td>...</td>\n",
       "      <td>...</td>\n",
       "    </tr>\n",
       "    <tr>\n",
       "      <th>2021-10</th>\n",
       "      <td>59.2</td>\n",
       "      <td>22.8</td>\n",
       "    </tr>\n",
       "    <tr>\n",
       "      <th>2021-11</th>\n",
       "      <td>69.8</td>\n",
       "      <td>28.0</td>\n",
       "    </tr>\n",
       "    <tr>\n",
       "      <th>2021-12</th>\n",
       "      <td>66.2</td>\n",
       "      <td>28.4</td>\n",
       "    </tr>\n",
       "    <tr>\n",
       "      <th>2022-01</th>\n",
       "      <td>78.3</td>\n",
       "      <td>20.6</td>\n",
       "    </tr>\n",
       "    <tr>\n",
       "      <th>2022-02</th>\n",
       "      <td>70.6</td>\n",
       "      <td>14.0</td>\n",
       "    </tr>\n",
       "  </tbody>\n",
       "</table>\n",
       "<p>170 rows × 2 columns</p>\n",
       "</div>"
      ],
      "text/plain": [
       "         high   low\n",
       "2008-01   NaN   NaN\n",
       "2008-02  24.3  12.8\n",
       "2008-03  36.5   5.9\n",
       "2008-04  28.9  23.2\n",
       "2008-05  54.0   8.4\n",
       "...       ...   ...\n",
       "2021-10  59.2  22.8\n",
       "2021-11  69.8  28.0\n",
       "2021-12  66.2  28.4\n",
       "2022-01  78.3  20.6\n",
       "2022-02  70.6  14.0\n",
       "\n",
       "[170 rows x 2 columns]"
      ]
     },
     "execution_count": 8,
     "metadata": {},
     "output_type": "execute_result"
    }
   ],
   "source": [
    "turnover = pd.DataFrame(dtype=float, index=np.sort(df.date.unique()), columns=['high','low'])\n",
    "turnover['high'] = 100*highPort.groupby('date')['trade%'].apply(lambda x: x.abs().sum()).iloc[1:] / 2\n",
    "turnover['low'] = 100*lowPort.groupby('date')['trade%'].apply(lambda x: x.abs().sum()).iloc[1:] / 2\n",
    "print('\\nMonthly Portfolio Turnover (%)\\n')\n",
    "turnover.round(1)"
   ]
  },
  {
   "cell_type": "code",
   "execution_count": 9,
   "id": "650ac13a-6de1-4b87-8308-8f6676fe7c62",
   "metadata": {},
   "outputs": [
    {
     "name": "stdout",
     "output_type": "stream",
     "text": [
      "\n",
      "Average Monthly Portfolio Turnover (%)\n",
      "\n"
     ]
    },
    {
     "data": {
      "text/plain": [
       "high    59.8\n",
       "low     15.6\n",
       "dtype: float64"
      ]
     },
     "execution_count": 9,
     "metadata": {},
     "output_type": "execute_result"
    }
   ],
   "source": [
    "print('\\nAverage Monthly Portfolio Turnover (%)\\n')\n",
    "turnover.mean().round(1)"
   ]
  },
  {
   "cell_type": "markdown",
   "id": "00eb5d1e-1bef-4978-ab89-0e43602b6d48",
   "metadata": {},
   "source": [
    "## Number of stocks"
   ]
  },
  {
   "cell_type": "code",
   "execution_count": 10,
   "id": "925a2da0-c73c-491f-babf-74d04410d110",
   "metadata": {},
   "outputs": [
    {
     "data": {
      "image/png": "[encoded data removed]",
      "text/plain": [
       "<Figure size 432x288 with 1 Axes>"
      ]
     },
     "metadata": {},
     "output_type": "display_data"
    }
   ],
   "source": [
    "highPort.groupby('date').apply(lambda d: d[d.weight!=0].weight.count()).plot(label='high')\n",
    "lowPort.groupby('date').apply(lambda d: d[d.weight!=0].weight.count()).plot(label='low')\n",
    "nothing = plt.legend()"
   ]
  },
  {
   "cell_type": "markdown",
   "id": "87f49439-8b89-4e6e-acd3-ff614c531dee",
   "metadata": {},
   "source": [
    "## Distribution of allocations (weights)"
   ]
  },
  {
   "cell_type": "code",
   "execution_count": 11,
   "id": "6f888707-25b9-4c04-b715-c733c10554d1",
   "metadata": {},
   "outputs": [
    {
     "data": {
      "image/png": "[encoded data removed]",
      "text/plain": [
       "<Figure size 432x288 with 1 Axes>"
      ]
     },
     "metadata": {},
     "output_type": "display_data"
    }
   ],
   "source": [
    "examples = ['2010-01','2016-01','2022-01']\n",
    "weights = [highPort[highPort.date==date].weight for date in examples]\n",
    "weights = pd.concat(weights,axis=1)\n",
    "weights.columns = examples\n",
    "sns.boxplot(data=weights)\n",
    "nothing=plt.title('Weights of Stocks in High Portfolio')"
   ]
  },
  {
   "cell_type": "code",
   "execution_count": 12,
   "id": "ab593a51-b958-4fcf-9a25-16f6a9742840",
   "metadata": {},
   "outputs": [
    {
     "data": {
      "image/png": "[encoded data removed]",
      "text/plain": [
       "<Figure size 432x288 with 1 Axes>"
      ]
     },
     "metadata": {},
     "output_type": "display_data"
    }
   ],
   "source": [
    "examples = ['2010-01','2016-01','2022-01']\n",
    "weights = [lowPort[lowPort.date==date].weight for date in examples]\n",
    "weights = pd.concat(weights,axis=1)\n",
    "weights.columns = examples\n",
    "sns.boxplot(data=weights)\n",
    "nothing=plt.title('Weights of Stocks in Low Portfolio')"
   ]
  },
  {
   "cell_type": "markdown",
   "id": "f8e1769c-da7d-4e0e-8f3b-c3722a11f23b",
   "metadata": {},
   "source": [
    "## Distribution of ranks"
   ]
  },
  {
   "cell_type": "code",
   "execution_count": 13,
   "id": "10fe2865-34c5-46eb-8e39-526f6db8b382",
   "metadata": {},
   "outputs": [
    {
     "data": {
      "image/png": "[encoded data removed]",
      "text/plain": [
       "<Figure size 432x288 with 1 Axes>"
      ]
     },
     "metadata": {},
     "output_type": "display_data"
    }
   ],
   "source": [
    "examples = ['2010-01','2016-01','2022-01']\n",
    "ranks = [highPort[(highPort.date==date)&(highPort.after!=0)].rnk for date in examples]\n",
    "ranks = pd.concat(ranks,axis=1)\n",
    "ranks.columns = examples\n",
    "sns.boxplot(data=ranks)\n",
    "nothing=plt.title('Ranks in High Portfolio (1=Best)')"
   ]
  },
  {
   "cell_type": "code",
   "execution_count": 14,
   "id": "64815567-0a9d-498f-87a7-8a85ef3fd166",
   "metadata": {},
   "outputs": [
    {
     "data": {
      "image/png": "[encoded data removed]",
      "text/plain": [
       "<Figure size 432x288 with 1 Axes>"
      ]
     },
     "metadata": {},
     "output_type": "display_data"
    }
   ],
   "source": [
    "examples = ['2010-01','2016-01','2022-01']\n",
    "ranks = [lowPort[(lowPort.date==date)&(lowPort.after!=0)].rnk for date in examples]\n",
    "ranks = pd.concat(ranks,axis=1)\n",
    "ranks.columns = examples\n",
    "sns.boxplot(data=ranks)\n",
    "nothing=plt.title('Ranks in Low Portfolio (1=Worst)')"
   ]
  },
  {
   "cell_type": "code",
   "execution_count": null,
   "id": "2aa79f31-4706-40ec-bba5-e7729505fd39",
   "metadata": {},
   "outputs": [],
   "source": []
  }
 ],
 "metadata": {
  "kernelspec": {
   "display_name": "Python 3 (ipykernel)",
   "language": "python",
   "name": "python3"
  },
  "language_info": {
   "codemirror_mode": {
    "name": "ipython",
    "version": 3
   },
   "file_extension": ".py",
   "mimetype": "text/x-python",
   "name": "python",
   "nbconvert_exporter": "python",
   "pygments_lexer": "ipython3",
   "version": "3.8.12"
  }
 },
 "nbformat": 4,
 "nbformat_minor": 5
}
