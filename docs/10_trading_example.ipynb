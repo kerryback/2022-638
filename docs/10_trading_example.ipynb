{
 "cells": [
  {
   "cell_type": "code",
   "execution_count": 1,
   "metadata": {},
   "outputs": [],
   "source": [
    "import pandas as pd\n",
    "import numpy as np\n",
    "\n",
    "tickers = list(string.ascii_uppercase)\n",
    "ranks = np.array(range(1, 27))\n",
    "np.random.shuffle(ranks)\n",
    "ranks = pd.Series(ranks, index=tickers)\n",
    "ranks.to_excel(\"ranks0.xlsx\")\n",
    "\n",
    "ranks1 = ranks + np.random.uniform(-15, 15, 26)\n",
    "ranks1 = ranks1.rank()\n",
    "ranks1.to_excel(\"ranks1.xlsx\")\n",
    "\n",
    "prices = np.random.uniform(low=10, high=100, size=26)\n",
    "prices = pd.Series(prices, index=tickers)\n",
    "prices = prices.round(2)\n",
    "prices.to_excel(\"prices0.xlsx\")\n",
    "\n",
    "rets = np.random.uniform(low=-0.05, high=0.1, size=26)\n",
    "rets = pd.Series(rets, index=tickers)\n",
    "prices1 = prices * (1+rets)\n",
    "prices1 = prices1.round(2)\n",
    "prices1.to_excel(\"prices1.xlsx\")"
   ]
  },
  {
   "cell_type": "code",
   "execution_count": 2,
   "metadata": {},
   "outputs": [],
   "source": []
  },
  {
   "cell_type": "code",
   "execution_count": 3,
   "metadata": {},
   "outputs": [],
   "source": [
    "equity = 100000\n",
    "weight = 0.2\n"
   ]
  },
  {
   "cell_type": "code",
   "execution_count": 4,
   "metadata": {},
   "outputs": [],
   "source": [
    "trades = np.where(ranks<=5, weight*equity/prices, 0)\n",
    "trades = pd.Series(trades, index=tickers).astype(int)\n",
    "positions = trades"
   ]
  },
  {
   "cell_type": "code",
   "execution_count": 6,
   "metadata": {},
   "outputs": [
    {
     "data": {
      "text/plain": [
       "125.13999999999942"
      ]
     },
     "execution_count": 6,
     "metadata": {},
     "output_type": "execute_result"
    }
   ],
   "source": [
    "cash = 100000 - (trades*prices).sum()\n",
    "cash"
   ]
  },
  {
   "cell_type": "code",
   "execution_count": 9,
   "metadata": {},
   "outputs": [],
   "source": []
  },
  {
   "cell_type": "code",
   "execution_count": 7,
   "metadata": {},
   "outputs": [],
   "source": []
  },
  {
   "cell_type": "code",
   "execution_count": 10,
   "metadata": {},
   "outputs": [
    {
     "data": {
      "text/plain": [
       "102180.05"
      ]
     },
     "execution_count": 10,
     "metadata": {},
     "output_type": "execute_result"
    }
   ],
   "source": [
    "equity = cash + (prices1*positions).sum()\n",
    "weights = prices1*positions / equity"
   ]
  },
  {
   "cell_type": "code",
   "execution_count": 14,
   "metadata": {},
   "outputs": [],
   "source": [
    "sells1 = np.where(ranks1>10, positions, 0)\n",
    "sells2 = np.where((ranks1<=10) & (weights>0.2), equity*(weights-0.2)/prices1, 0)\n",
    "trades = - pd.Series(sells1+sells2, index=tickers).astype(int)"
   ]
  },
  {
   "cell_type": "code",
   "execution_count": 15,
   "metadata": {},
   "outputs": [],
   "source": [
    "cash = cash - (trades*prices1).sum()\n",
    "numbuys = int(np.ceil(cash / (0.2*equity)))\n",
    "buys = ranks1[positions==0].sort_values().index[:numbuys]\n",
    "trades[buys] = (cash/num) / prices[buys]\n",
    "trades = trades.astype(int)"
   ]
  },
  {
   "cell_type": "code",
   "execution_count": 37,
   "metadata": {},
   "outputs": [],
   "source": [
    "positions = positions + trades\n",
    "\n"
   ]
  },
  {
   "cell_type": "code",
   "execution_count": 36,
   "metadata": {},
   "outputs": [
    {
     "data": {
      "text/plain": [
       "A      0\n",
       "B      0\n",
       "C      0\n",
       "D    233\n",
       "E      0\n",
       "F    309\n",
       "G      0\n",
       "H   -329\n",
       "I      0\n",
       "J      0\n",
       "K      0\n",
       "L      0\n",
       "M      0\n",
       "N      0\n",
       "O      0\n",
       "P      0\n",
       "Q      0\n",
       "R   -214\n",
       "S      0\n",
       "T      0\n",
       "U      0\n",
       "V      0\n",
       "W      0\n",
       "X      0\n",
       "Y      0\n",
       "Z      0\n",
       "dtype: int32"
      ]
     },
     "execution_count": 36,
     "metadata": {},
     "output_type": "execute_result"
    }
   ],
   "source": [
    "trades"
   ]
  },
  {
   "cell_type": "code",
   "execution_count": 27,
   "metadata": {},
   "outputs": [],
   "source": [
    "trades[tick] = int(0.2*equity / prices[tick])\n",
    "cash -= trades[tick]*prices[tick]\n"
   ]
  },
  {
   "cell_type": "code",
   "execution_count": 28,
   "metadata": {},
   "outputs": [
    {
     "data": {
      "text/plain": [
       "22829.100000000002"
      ]
     },
     "execution_count": 28,
     "metadata": {},
     "output_type": "execute_result"
    }
   ],
   "source": [
    "cash"
   ]
  },
  {
   "cell_type": "code",
   "execution_count": 26,
   "metadata": {},
   "outputs": [
    {
     "data": {
      "text/plain": [
       "'D'"
      ]
     },
     "execution_count": 26,
     "metadata": {},
     "output_type": "execute_result"
    }
   ],
   "source": [
    "tick = ticks.pop(0)\n",
    "tick"
   ]
  },
  {
   "cell_type": "code",
   "execution_count": null,
   "metadata": {},
   "outputs": [],
   "source": [
    "ticks = tickers[positions==0].sorwhile cash > 0:"
   ]
  },
  {
   "cell_type": "code",
   "execution_count": null,
   "metadata": {},
   "outputs": [],
   "source": [
    "trades = (np.maximum(weights-0.2, 0) * equity / prices1)[ranks1<=10]\n",
    "trades = np.where((weights>0.2) & (ranks1<=10), equity*(weights-0.2)/prices, 0)\n",
    "trades = pd.Series(trades, index=tickers)\n",
    "trades\n",
    "\n",
    "    "
   ]
  },
  {
   "cell_type": "code",
   "execution_count": null,
   "metadata": {},
   "outputs": [],
   "source": [
    "sellsome = (weights>0.2) * (ranks1<=10)\n",
    "sellsome"
   ]
  },
  {
   "cell_type": "code",
   "execution_count": null,
   "metadata": {},
   "outputs": [],
   "source": [
    "trades = - positions[ranks1>10]"
   ]
  },
  {
   "cell_type": "code",
   "execution_count": null,
   "metadata": {},
   "outputs": [],
   "source": [
    "weights = prices1*positions / equity\n"
   ]
  }
 ],
 "metadata": {
  "kernelspec": {
   "display_name": "Python 3.10.8 64-bit",
   "language": "python",
   "name": "python3"
  },
  "language_info": {
   "codemirror_mode": {
    "name": "ipython",
    "version": 3
   },
   "file_extension": ".py",
   "mimetype": "text/x-python",
   "name": "python",
   "nbconvert_exporter": "python",
   "pygments_lexer": "ipython3",
   "version": "3.10.8"
  },
  "orig_nbformat": 4,
  "vscode": {
   "interpreter": {
    "hash": "a98f34b6005ae2330f135078450db511ef8910ecc790235ef0560aa88aa6ce12"
   }
  }
 },
 "nbformat": 4,
 "nbformat_minor": 2
}
