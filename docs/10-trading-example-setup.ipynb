{
 "cells": [
  {
   "cell_type": "code",
   "execution_count": 2,
   "metadata": {},
   "outputs": [],
   "source": [
    "import pandas as pd\n",
    "import numpy as np\n",
    "import string\n",
    "\n",
    "tickers = list(string.ascii_uppercase)\n",
    "ranks = np.array(range(1, 27))\n",
    "np.random.shuffle(ranks)\n",
    "ranks = pd.Series(ranks, index=tickers)\n",
    "ranks.to_excel(\"../files/ranks0.xlsx\")\n",
    "\n",
    "ranks1 = ranks + np.random.uniform(-15, 15, 26)\n",
    "ranks1 = ranks1.rank()\n",
    "ranks1.to_excel(\"../files/ranks1.xlsx\")\n",
    "\n",
    "prices = np.random.uniform(low=10, high=100, size=26)\n",
    "prices = pd.Series(prices, index=tickers)\n",
    "prices = prices.round(2)\n",
    "prices.to_excel(\"../files/prices0.xlsx\")\n",
    "\n",
    "rets = np.random.uniform(low=-0.05, high=0.1, size=26)\n",
    "rets = pd.Series(rets, index=tickers)\n",
    "prices1 = prices * (1+rets)\n",
    "prices1 = prices1.round(2)\n",
    "prices1.to_excel(\"../files/prices1.xlsx\")"
   ]
  }
 ],
 "metadata": {
  "kernelspec": {
   "display_name": "Python 3.10.8 64-bit",
   "language": "python",
   "name": "python3"
  },
  "language_info": {
   "codemirror_mode": {
    "name": "ipython",
    "version": 3
   },
   "file_extension": ".py",
   "mimetype": "text/x-python",
   "name": "python",
   "nbconvert_exporter": "python",
   "pygments_lexer": "ipython3",
   "version": "3.10.8"
  },
  "orig_nbformat": 4,
  "vscode": {
   "interpreter": {
    "hash": "a98f34b6005ae2330f135078450db511ef8910ecc790235ef0560aa88aa6ce12"
   }
  }
 },
 "nbformat": 4,
 "nbformat_minor": 2
}
